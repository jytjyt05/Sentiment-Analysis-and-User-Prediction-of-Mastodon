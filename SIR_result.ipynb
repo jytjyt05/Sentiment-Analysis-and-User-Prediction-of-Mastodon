{
  "nbformat": 4,
  "nbformat_minor": 0,
  "metadata": {
    "colab": {
      "provenance": [],
      "collapsed_sections": [
        "E-YkB6Q0Cjrk"
      ]
    },
    "kernelspec": {
      "name": "python3",
      "display_name": "Python 3"
    },
    "language_info": {
      "name": "python"
    }
  },
  "cells": [
    {
      "cell_type": "code",
      "execution_count": null,
      "metadata": {
        "id": "3HPqwM-g8OJx",
        "colab": {
          "base_uri": "https://localhost:8080/"
        },
        "outputId": "7a3ee788-f81b-4088-a16c-ecab43debe4b"
      },
      "outputs": [
        {
          "output_type": "stream",
          "name": "stderr",
          "text": [
            "[nltk_data] Downloading package stopwords to /root/nltk_data...\n",
            "[nltk_data]   Unzipping corpora/stopwords.zip.\n"
          ]
        }
      ],
      "source": [
        "import numpy as np\n",
        "import matplotlib.pyplot as plt\n",
        "import pandas as pd\n",
        "import json\n",
        "# twitter api\n",
        "import tweepy\n",
        "import nltk\n",
        "nltk.download('stopwords')\n",
        "from nltk.corpus import stopwords\n",
        "from textblob import TextBlob"
      ]
    },
    {
      "cell_type": "code",
      "source": [
        "# from google.colab import drive\n",
        "# drive.mount('/content/drive')"
      ],
      "metadata": {
        "id": "PU8T-kPQ14iE"
      },
      "execution_count": null,
      "outputs": []
    },
    {
      "cell_type": "markdown",
      "source": [
        "# Import Twitter data"
      ],
      "metadata": {
        "id": "E-YkB6Q0Cjrk"
      }
    },
    {
      "cell_type": "code",
      "source": [
        "# Sentimental analysis\n",
        "# Please insert Twitter API Credentials\n",
        "# Twitter API credentials\n",
        "consumer_key = \"\"\n",
        "consumer_secret = \"\"\n",
        "access_key = \"\"\n",
        "access_secret = \"\""
      ],
      "metadata": {
        "id": "d7kCUntfCmZ4"
      },
      "execution_count": null,
      "outputs": []
    },
    {
      "cell_type": "code",
      "source": [
        "auth = tweepy.OAuthHandler(consumer_key, consumer_secret)\n",
        "auth.set_access_token(access_key, access_secret)\n",
        "api = tweepy.API(auth)"
      ],
      "metadata": {
        "id": "oExPEQYF6Hpf"
      },
      "execution_count": null,
      "outputs": []
    },
    {
      "cell_type": "code",
      "source": [
        "# print api information\n",
        "print(api)"
      ],
      "metadata": {
        "id": "WOHGbo_B6JxE"
      },
      "execution_count": null,
      "outputs": []
    },
    {
      "cell_type": "code",
      "source": [
        "# verify if the credentials are correct\n",
        "try :\n",
        "    api.verify_credentials()\n",
        "    print(\"Authentication OK\")\n",
        "except :\n",
        "    print(\"Error during authentication\")"
      ],
      "metadata": {
        "id": "idyFyJQZ6KXR"
      },
      "execution_count": null,
      "outputs": []
    },
    {
      "cell_type": "code",
      "source": [
        "# check api rate limit for api calls\n",
        "print(\"API rate limit: \", api.rate_limit_status()['resources']['search'])\n",
        "# check time of reset\n",
        "print(\"Reset time: \", api.rate_limit_status()['resources']['search']['/search/tweets']['reset'])"
      ],
      "metadata": {
        "id": "8lTCsk1F6MdE"
      },
      "execution_count": null,
      "outputs": []
    },
    {
      "cell_type": "code",
      "source": [
        "def tweets_getter(query, count, date):\n",
        "    tweets = api.search_tweets(q=query, count=count, tweet_mode=\"extended\", until=date, lang=\"en\")\n",
        "    tweets_df = pd.DataFrame(columns = [\"Time\", \"Tweet\", \"User\", \"Location\", \"Retweets\", \"Likes\"])\n",
        "    for i in range(len(tweets)):\n",
        "        tweets_df.loc[i, \"Time\"] = tweets[i].created_at\n",
        "        tweets_df.loc[i, \"Tweet\"] = tweets[i].full_text\n",
        "        tweets_df.loc[i, \"User\"] = tweets[i].user.screen_name\n",
        "        tweets_df.loc[i, \"Location\"] = tweets[i].user.location\n",
        "        tweets_df.loc[i, \"Retweets\"] = tweets[i].retweet_count\n",
        "        tweets_df.loc[i, \"Likes\"] = tweets[i].favorite_count\n",
        "    return tweets_df"
      ],
      "metadata": {
        "id": "0cO6asML6Ocv"
      },
      "execution_count": null,
      "outputs": []
    },
    {
      "cell_type": "code",
      "source": [
        "# Query: Twitter, Elon Musk, Mastodon, Jack Dorsey, Decentralized Social Network, Social Media, Twitter Takeover, Tesla\n",
        "# Do this for 100 times\n",
        "# Insert Desired Data\n",
        "date_before = \"\"\n",
        "#  make empty dataframes for each query\n",
        "twitter = pd.DataFrame(columns = [\"Time\", \"Tweet\", \"User\", \"Location\", \"Retweets\", \"Likes\"])\n",
        "elon = pd.DataFrame(columns = [\"Time\", \"Tweet\", \"User\", \"Location\", \"Retweets\", \"Likes\"])\n",
        "mastodon = pd.DataFrame(columns = [\"Time\", \"Tweet\", \"User\", \"Location\", \"Retweets\", \"Likes\"])\n",
        "jack = pd.DataFrame(columns = [\"Time\", \"Tweet\", \"User\", \"Location\", \"Retweets\", \"Likes\"])\n",
        "decentralized = pd.DataFrame(columns = [\"Time\", \"Tweet\", \"User\", \"Location\", \"Retweets\", \"Likes\"])\n",
        "social = pd.DataFrame(columns = [\"Time\", \"Tweet\", \"User\", \"Location\", \"Retweets\", \"Likes\"])\n",
        "takeover = pd.DataFrame(columns = [\"Time\", \"Tweet\", \"User\", \"Location\", \"Retweets\", \"Likes\"])\n",
        "tesla = pd.DataFrame(columns = [\"Time\", \"Tweet\", \"User\", \"Location\", \"Retweets\", \"Likes\"])"
      ],
      "metadata": {
        "id": "iqY3SV9X6Qz3"
      },
      "execution_count": null,
      "outputs": []
    },
    {
      "cell_type": "code",
      "source": [
        "for i in range(10):\n",
        "    # get tweets 100 times for each search query, use concat to add to the dataframe\n",
        "    twitter = pd.concat([twitter, tweets_getter(\"Twitter\", 100, date_before)])\n",
        "    elon = pd.concat([elon, tweets_getter(\"Elon Musk\", 100, date_before)])\n",
        "    mastodon = pd.concat([mastodon, tweets_getter(\"Mastodon\", 100, date_before)])\n",
        "    jack = pd.concat([jack, tweets_getter(\"Jack Dorsey\", 100, date_before)])\n",
        "    decentralized = pd.concat([decentralized, tweets_getter(\"Decentralized Social Network\", 100, date_before)])\n",
        "    social = pd.concat([social, tweets_getter(\"Social Media\", 100, date_before)])\n",
        "    takeover = pd.concat([takeover, tweets_getter(\"Twitter Takeover\", 100, date_before)])\n",
        "    tesla = pd.concat([tesla, tweets_getter(\"Tesla\", 100, date_before)])"
      ],
      "metadata": {
        "id": "asO1HK4V6W_p"
      },
      "execution_count": null,
      "outputs": []
    },
    {
      "cell_type": "code",
      "source": [
        "# Turn all of the dataframes into separate csv files\n",
        "twitter.to_csv(\"twitter.csv\")\n",
        "elon.to_csv(\"elon.csv\")\n",
        "mastodon.to_csv(\"mastodon.csv\")\n",
        "jack.to_csv(\"jack.csv\")\n",
        "decentralized.to_csv(\"decentralized.csv\")\n",
        "social.to_csv(\"social.csv\")\n",
        "takeover.to_csv(\"takeover.csv\")\n",
        "tesla.to_csv(\"tesla.csv\")"
      ],
      "metadata": {
        "id": "I8PQNEOq6YSh"
      },
      "execution_count": null,
      "outputs": []
    },
    {
      "cell_type": "code",
      "source": [
        "# stopwords from nltk library\n",
        "stop_words = set(stopwords.words('english'))"
      ],
      "metadata": {
        "id": "oAHrpbm06mtz"
      },
      "execution_count": null,
      "outputs": []
    },
    {
      "cell_type": "code",
      "source": [
        "def sentiment(tweet):\n",
        "    # do lemmatization, remove stop words, remove punctuation, remove numbers, emojis\n",
        "    tweet = tweet.lower()\n",
        "    tweet = tweet.split()\n",
        "    tweet = [word for word in tweet if not word in stop_words]\n",
        "    tweet = [word for word in tweet if word.isalpha()]\n",
        "    tweet = [word for word in tweet if not word.isdigit()]\n",
        "    tweet = \" \".join(tweet)\n",
        "    # sentiment analysis\n",
        "    sent = TextBlob(tweet)\n",
        "    return sent.sentiment.polarity"
      ],
      "metadata": {
        "id": "HnABMTfr6pDc"
      },
      "execution_count": null,
      "outputs": []
    },
    {
      "cell_type": "code",
      "source": [
        "# add sentiment column to each dataframe\n",
        "twitter[\"Sentiment\"] = twitter[\"Tweet\"].apply(sentiment)\n",
        "elon[\"Sentiment\"] = elon[\"Tweet\"].apply(sentiment)\n",
        "mastodon[\"Sentiment\"] = mastodon[\"Tweet\"].apply(sentiment)\n",
        "jack[\"Sentiment\"] = jack[\"Tweet\"].apply(sentiment)\n",
        "decentralized[\"Sentiment\"] = decentralized[\"Tweet\"].apply(sentiment)\n",
        "social[\"Sentiment\"] = social[\"Tweet\"].apply(sentiment)\n",
        "takeover[\"Sentiment\"] = takeover[\"Tweet\"].apply(sentiment)\n",
        "tesla[\"Sentiment\"] = tesla[\"Tweet\"].apply(sentiment)"
      ],
      "metadata": {
        "id": "9ysXbBap6qfx"
      },
      "execution_count": null,
      "outputs": []
    },
    {
      "cell_type": "code",
      "source": [
        "# go through each row of each dataframe and do sentiment analysis on tweet column using sentiment funciton\n",
        "# add sentiment column to each dataframe\n",
        "twitter[\"Sentiment\"] = twitter[\"Tweet\"].apply(sentiment)\n",
        "elon[\"Sentiment\"] = elon[\"Tweet\"].apply(sentiment)\n",
        "mastodon[\"Sentiment\"] = mastodon[\"Tweet\"].apply(sentiment)\n",
        "jack[\"Sentiment\"] = jack[\"Tweet\"].apply(sentiment)\n",
        "decentralized[\"Sentiment\"] = decentralized[\"Tweet\"].apply(sentiment)\n",
        "social[\"Sentiment\"] = social[\"Tweet\"].apply(sentiment)\n",
        "takeover[\"Sentiment\"] = takeover[\"Tweet\"].apply(sentiment)\n",
        "tesla[\"Sentiment\"] = tesla[\"Tweet\"].apply(sentiment)"
      ],
      "metadata": {
        "id": "0aLSf6xA60zt"
      },
      "execution_count": null,
      "outputs": []
    },
    {
      "cell_type": "code",
      "source": [
        "# print sentiment column of each dataframe\n",
        "print(twitter['Tweet'], twitter[\"Sentiment\"])\n",
        "print(elon['Tweet'], elon[\"Sentiment\"])"
      ],
      "metadata": {
        "id": "cYC_hllX63nx"
      },
      "execution_count": null,
      "outputs": []
    },
    {
      "cell_type": "code",
      "source": [
        "# drop all 0 sentiment rows\n",
        "twitter = twitter[twitter[\"Sentiment\"] != 0]\n",
        "elon = elon[elon[\"Sentiment\"] != 0]\n",
        "mastodon = mastodon[mastodon[\"Sentiment\"] != 0]\n",
        "jack = jack[jack[\"Sentiment\"] != 0]\n",
        "decentralized = decentralized[decentralized[\"Sentiment\"] != 0]\n",
        "social = social[social[\"Sentiment\"] != 0]\n",
        "takeover = takeover[takeover[\"Sentiment\"] != 0]\n",
        "tesla = tesla[tesla[\"Sentiment\"] != 0]"
      ],
      "metadata": {
        "id": "ZD__d0lW68D3"
      },
      "execution_count": null,
      "outputs": []
    },
    {
      "cell_type": "code",
      "source": [
        "# print mean sentiment\n",
        "print(\"Date:\", date_before)\n",
        "print(\"Twitter:\", twitter[\"Sentiment\"].mean())\n",
        "print(\"Elon Musk:\", elon[\"Sentiment\"].mean())\n",
        "print(\"Mastodon:\", mastodon[\"Sentiment\"].mean())\n",
        "print(\"Jack Dorsey:\", jack[\"Sentiment\"].mean())\n",
        "print(\"Decentralized Social Network:\", decentralized[\"Sentiment\"].mean())\n",
        "print(\"Social Media:\", social[\"Sentiment\"].mean())\n",
        "print(\"Twitter Takeover:\", takeover[\"Sentiment\"].mean())\n",
        "print(\"Tesla:\", tesla[\"Sentiment\"].mean())"
      ],
      "metadata": {
        "id": "oFuegKsY68kF"
      },
      "execution_count": null,
      "outputs": []
    },
    {
      "cell_type": "markdown",
      "source": [
        "# Get Mastodon Data"
      ],
      "metadata": {
        "id": "SzOJ7E1iBwfu"
      }
    },
    {
      "cell_type": "code",
      "source": [
        "path='/content/mastodon2.json'\n",
        "with open(path) as json_data:\n",
        "   obj = json.load(json_data)\n",
        "  #  print(obj)\n",
        "   df_m = pd.DataFrame(obj['data']['platforms'][0]['statSet'], columns=['date','usersMonthly','usersTotal'])"
      ],
      "metadata": {
        "id": "ED2-rd-G8VR5"
      },
      "execution_count": null,
      "outputs": []
    },
    {
      "cell_type": "code",
      "source": [
        "# convert date to datetype, sort and reset index by extracting ones from 2022\n",
        "df_m['date'] = pd.to_datetime(df_m['date'])\n",
        "df_m=df_m.sort_values(by='date')\n",
        "\n",
        "mask=df_m['date']>'2021-12-31'\n",
        "df_m=df_m.loc[mask].reset_index(drop=True)"
      ],
      "metadata": {
        "id": "Xa39CWFx-dHT"
      },
      "execution_count": null,
      "outputs": []
    },
    {
      "cell_type": "code",
      "source": [
        "plt.figure(figsize=(18,6))\n",
        "plt.title(\"Mastodon user numbers\")\n",
        "plt.plot(df_m['date'],df_m['usersMonthly'],color='r',label='Monthly Active User')\n",
        "plt.plot(df_m['date'],df_m['usersTotal'],color='b',label='Total User')\n",
        "plt.legend()\n",
        "plt.show()"
      ],
      "metadata": {
        "colab": {
          "base_uri": "https://localhost:8080/",
          "height": 390
        },
        "id": "eF_ocXmMAth8",
        "outputId": "c5f16a9f-5159-41b5-b154-8980516229d7"
      },
      "execution_count": null,
      "outputs": [
        {
          "output_type": "display_data",
          "data": {
            "text/plain": [
              "<Figure size 1296x432 with 1 Axes>"
            ],
            "image/png": "[encoded data removed]"
          },
          "metadata": {
            "needs_background": "light"
          }
        }
      ]
    },
    {
      "cell_type": "code",
      "source": [
        "Nov_interval = ('2022-10-22','2022-11-21')"
      ],
      "metadata": {
        "id": "gI0pqvQ2BPmf"
      },
      "execution_count": null,
      "outputs": []
    },
    {
      "cell_type": "code",
      "source": [
        "# mask1=(df_m['date'] >= Apr_May_interval[0]) & (df_m['date'] <= Apr_May_interval[1])\n",
        "mask1=(df_m['date'] >= Nov_interval[0]) & (df_m['date'] <= Nov_interval[1])\n",
        "df1 = df_m.loc[mask1].reset_index(drop=True)\n",
        "# df2 = df_m.loc[mask2].reset_index(drop=True)"
      ],
      "metadata": {
        "id": "2oGMbbyfCxGS"
      },
      "execution_count": null,
      "outputs": []
    },
    {
      "cell_type": "code",
      "source": [
        "df1['Diff'] = df1['usersTotal'].diff()\n",
        "df1.at[0,'Diff']=0"
      ],
      "metadata": {
        "id": "XFfD6OxHLH0p"
      },
      "execution_count": null,
      "outputs": []
    },
    {
      "cell_type": "code",
      "source": [
        "df1"
      ],
      "metadata": {
        "colab": {
          "base_uri": "https://localhost:8080/",
          "height": 1000
        },
        "id": "5jf3P3BrBztZ",
        "outputId": "96cf4739-a0ec-4be5-e6b2-4d4ec2809981"
      },
      "execution_count": null,
      "outputs": [
        {
          "output_type": "execute_result",
          "data": {
            "text/plain": [
              "         date  usersMonthly  usersTotal      Diff\n",
              "0  2022-10-22      505674.0   4571766.0       0.0\n",
              "1  2022-10-23      505741.0   4572879.0    1113.0\n",
              "2  2022-10-24      513990.0   4576615.0    3736.0\n",
              "3  2022-10-25      518592.0   4588035.0   11420.0\n",
              "4  2022-10-26      518142.0   4592742.0    4707.0\n",
              "5  2022-10-27      519425.0   4594031.0    1289.0\n",
              "6  2022-10-28      527861.0   4647710.0   53679.0\n",
              "7  2022-10-29      562695.0   4695555.0   47845.0\n",
              "8  2022-10-30      766199.0   4730701.0   35146.0\n",
              "9  2022-10-31      882477.0   4772463.0   41762.0\n",
              "10 2022-11-01      986758.0   4809897.0   37434.0\n",
              "11 2022-11-02     1108673.0   4851760.0   41863.0\n",
              "12 2022-11-03     1184102.0   4879941.0   28181.0\n",
              "13 2022-11-04     1171251.0   4930062.0   50121.0\n",
              "14 2022-11-05     1297802.0   5025333.0   95271.0\n",
              "15 2022-11-06     1411241.0   5162419.0  137086.0\n",
              "16 2022-11-07     1615018.0   5302333.0  139914.0\n",
              "17 2022-11-08     1746250.0   5423765.0  121432.0\n",
              "18 2022-11-09     1931376.0   5515846.0   92081.0\n",
              "19 2022-11-10     2124906.0   5582254.0   66408.0\n",
              "20 2022-11-11     2289404.0   5655327.0   73073.0\n",
              "21 2022-11-12     2474701.0   5822126.0  166799.0\n",
              "22 2022-11-13     2524729.0   5885386.0   63260.0\n",
              "23 2022-11-14     2640087.0   5930623.0   45237.0\n",
              "24 2022-11-15     2630234.0   5985878.0   55255.0\n",
              "25 2022-11-16     2587045.0   6029332.0   43454.0\n",
              "26 2022-11-17     2594209.0   6062032.0   32700.0\n",
              "27 2022-11-18     2757698.0   6354465.0  292433.0\n",
              "28 2022-11-19     2955638.0   6618327.0  263862.0\n",
              "29 2022-11-20     3175074.0   6736856.0  118529.0\n",
              "30 2022-11-21     3435619.0   6788333.0   51477.0"
            ],
            "text/html": [
              "\n",
              "  <div id=\"df-65d488e4-51ac-4759-9889-753fc4221adb\">\n",
              "    <div class=\"colab-df-container\">\n",
              "      <div>\n",
              "<style scoped>\n",
              "    .dataframe tbody tr th:only-of-type {\n",
              "        vertical-align: middle;\n",
              "    }\n",
              "\n",
              "    .dataframe tbody tr th {\n",
              "        vertical-align: top;\n",
              "    }\n",
              "\n",
              "    .dataframe thead th {\n",
              "        text-align: right;\n",
              "    }\n",
              "</style>\n",
              "<table border=\"1\" class=\"dataframe\">\n",
              "  <thead>\n",
              "    <tr style=\"text-align: right;\">\n",
              "      <th></th>\n",
              "      <th>date</th>\n",
              "      <th>usersMonthly</th>\n",
              "      <th>usersTotal</th>\n",
              "      <th>Diff</th>\n",
              "    </tr>\n",
              "  </thead>\n",
              "  <tbody>\n",
              "    <tr>\n",
              "      <th>0</th>\n",
              "      <td>2022-10-22</td>\n",
              "      <td>505674.0</td>\n",
              "      <td>4571766.0</td>\n",
              "      <td>0.0</td>\n",
              "    </tr>\n",
              "    <tr>\n",
              "      <th>1</th>\n",
              "      <td>2022-10-23</td>\n",
              "      <td>505741.0</td>\n",
              "      <td>4572879.0</td>\n",
              "      <td>1113.0</td>\n",
              "    </tr>\n",
              "    <tr>\n",
              "      <th>2</th>\n",
              "      <td>2022-10-24</td>\n",
              "      <td>513990.0</td>\n",
              "      <td>4576615.0</td>\n",
              "      <td>3736.0</td>\n",
              "    </tr>\n",
              "    <tr>\n",
              "      <th>3</th>\n",
              "      <td>2022-10-25</td>\n",
              "      <td>518592.0</td>\n",
              "      <td>4588035.0</td>\n",
              "      <td>11420.0</td>\n",
              "    </tr>\n",
              "    <tr>\n",
              "      <th>4</th>\n",
              "      <td>2022-10-26</td>\n",
              "      <td>518142.0</td>\n",
              "      <td>4592742.0</td>\n",
              "      <td>4707.0</td>\n",
              "    </tr>\n",
              "    <tr>\n",
              "      <th>5</th>\n",
              "      <td>2022-10-27</td>\n",
              "      <td>519425.0</td>\n",
              "      <td>4594031.0</td>\n",
              "      <td>1289.0</td>\n",
              "    </tr>\n",
              "    <tr>\n",
              "      <th>6</th>\n",
              "      <td>2022-10-28</td>\n",
              "      <td>527861.0</td>\n",
              "      <td>4647710.0</td>\n",
              "      <td>53679.0</td>\n",
              "    </tr>\n",
              "    <tr>\n",
              "      <th>7</th>\n",
              "      <td>2022-10-29</td>\n",
              "      <td>562695.0</td>\n",
              "      <td>4695555.0</td>\n",
              "      <td>47845.0</td>\n",
              "    </tr>\n",
              "    <tr>\n",
              "      <th>8</th>\n",
              "      <td>2022-10-30</td>\n",
              "      <td>766199.0</td>\n",
              "      <td>4730701.0</td>\n",
              "      <td>35146.0</td>\n",
              "    </tr>\n",
              "    <tr>\n",
              "      <th>9</th>\n",
              "      <td>2022-10-31</td>\n",
              "      <td>882477.0</td>\n",
              "      <td>4772463.0</td>\n",
              "      <td>41762.0</td>\n",
              "    </tr>\n",
              "    <tr>\n",
              "      <th>10</th>\n",
              "      <td>2022-11-01</td>\n",
              "      <td>986758.0</td>\n",
              "      <td>4809897.0</td>\n",
              "      <td>37434.0</td>\n",
              "    </tr>\n",
              "    <tr>\n",
              "      <th>11</th>\n",
              "      <td>2022-11-02</td>\n",
              "      <td>1108673.0</td>\n",
              "      <td>4851760.0</td>\n",
              "      <td>41863.0</td>\n",
              "    </tr>\n",
              "    <tr>\n",
              "      <th>12</th>\n",
              "      <td>2022-11-03</td>\n",
              "      <td>1184102.0</td>\n",
              "      <td>4879941.0</td>\n",
              "      <td>28181.0</td>\n",
              "    </tr>\n",
              "    <tr>\n",
              "      <th>13</th>\n",
              "      <td>2022-11-04</td>\n",
              "      <td>1171251.0</td>\n",
              "      <td>4930062.0</td>\n",
              "      <td>50121.0</td>\n",
              "    </tr>\n",
              "    <tr>\n",
              "      <th>14</th>\n",
              "      <td>2022-11-05</td>\n",
              "      <td>1297802.0</td>\n",
              "      <td>5025333.0</td>\n",
              "      <td>95271.0</td>\n",
              "    </tr>\n",
              "    <tr>\n",
              "      <th>15</th>\n",
              "      <td>2022-11-06</td>\n",
              "      <td>1411241.0</td>\n",
              "      <td>5162419.0</td>\n",
              "      <td>137086.0</td>\n",
              "    </tr>\n",
              "    <tr>\n",
              "      <th>16</th>\n",
              "      <td>2022-11-07</td>\n",
              "      <td>1615018.0</td>\n",
              "      <td>5302333.0</td>\n",
              "      <td>139914.0</td>\n",
              "    </tr>\n",
              "    <tr>\n",
              "      <th>17</th>\n",
              "      <td>2022-11-08</td>\n",
              "      <td>1746250.0</td>\n",
              "      <td>5423765.0</td>\n",
              "      <td>121432.0</td>\n",
              "    </tr>\n",
              "    <tr>\n",
              "      <th>18</th>\n",
              "      <td>2022-11-09</td>\n",
              "      <td>1931376.0</td>\n",
              "      <td>5515846.0</td>\n",
              "      <td>92081.0</td>\n",
              "    </tr>\n",
              "    <tr>\n",
              "      <th>19</th>\n",
              "      <td>2022-11-10</td>\n",
              "      <td>2124906.0</td>\n",
              "      <td>5582254.0</td>\n",
              "      <td>66408.0</td>\n",
              "    </tr>\n",
              "    <tr>\n",
              "      <th>20</th>\n",
              "      <td>2022-11-11</td>\n",
              "      <td>2289404.0</td>\n",
              "      <td>5655327.0</td>\n",
              "      <td>73073.0</td>\n",
              "    </tr>\n",
              "    <tr>\n",
              "      <th>21</th>\n",
              "      <td>2022-11-12</td>\n",
              "      <td>2474701.0</td>\n",
              "      <td>5822126.0</td>\n",
              "      <td>166799.0</td>\n",
              "    </tr>\n",
              "    <tr>\n",
              "      <th>22</th>\n",
              "      <td>2022-11-13</td>\n",
              "      <td>2524729.0</td>\n",
              "      <td>5885386.0</td>\n",
              "      <td>63260.0</td>\n",
              "    </tr>\n",
              "    <tr>\n",
              "      <th>23</th>\n",
              "      <td>2022-11-14</td>\n",
              "      <td>2640087.0</td>\n",
              "      <td>5930623.0</td>\n",
              "      <td>45237.0</td>\n",
              "    </tr>\n",
              "    <tr>\n",
              "      <th>24</th>\n",
              "      <td>2022-11-15</td>\n",
              "      <td>2630234.0</td>\n",
              "      <td>5985878.0</td>\n",
              "      <td>55255.0</td>\n",
              "    </tr>\n",
              "    <tr>\n",
              "      <th>25</th>\n",
              "      <td>2022-11-16</td>\n",
              "      <td>2587045.0</td>\n",
              "      <td>6029332.0</td>\n",
              "      <td>43454.0</td>\n",
              "    </tr>\n",
              "    <tr>\n",
              "      <th>26</th>\n",
              "      <td>2022-11-17</td>\n",
              "      <td>2594209.0</td>\n",
              "      <td>6062032.0</td>\n",
              "      <td>32700.0</td>\n",
              "    </tr>\n",
              "    <tr>\n",
              "      <th>27</th>\n",
              "      <td>2022-11-18</td>\n",
              "      <td>2757698.0</td>\n",
              "      <td>6354465.0</td>\n",
              "      <td>292433.0</td>\n",
              "    </tr>\n",
              "    <tr>\n",
              "      <th>28</th>\n",
              "      <td>2022-11-19</td>\n",
              "      <td>2955638.0</td>\n",
              "      <td>6618327.0</td>\n",
              "      <td>263862.0</td>\n",
              "    </tr>\n",
              "    <tr>\n",
              "      <th>29</th>\n",
              "      <td>2022-11-20</td>\n",
              "      <td>3175074.0</td>\n",
              "      <td>6736856.0</td>\n",
              "      <td>118529.0</td>\n",
              "    </tr>\n",
              "    <tr>\n",
              "      <th>30</th>\n",
              "      <td>2022-11-21</td>\n",
              "      <td>3435619.0</td>\n",
              "      <td>6788333.0</td>\n",
              "      <td>51477.0</td>\n",
              "    </tr>\n",
              "  </tbody>\n",
              "</table>\n",
              "</div>\n",
              "      <button class=\"colab-df-convert\" onclick=\"convertToInteractive('df-65d488e4-51ac-4759-9889-753fc4221adb')\"\n",
              "              title=\"Convert this dataframe to an interactive table.\"\n",
              "              style=\"display:none;\">\n",
              "        \n",
              "  <svg xmlns=\"http://www.w3.org/2000/svg\" height=\"24px\"viewBox=\"0 0 24 24\"\n",
              "       width=\"24px\">\n",
              "    <path d=\"M0 0h24v24H0V0z\" fill=\"none\"/>\n",
              "    <path d=\"M18.56 5.44l.94 2.06.94-2.06 2.06-.94-2.06-.94-.94-2.06-.94 2.06-2.06.94zm-11 1L8.5 8.5l.94-2.06 2.06-.94-2.06-.94L8.5 2.5l-.94 2.06-2.06.94zm10 10l.94 2.06.94-2.06 2.06-.94-2.06-.94-.94-2.06-.94 2.06-2.06.94z\"/><path d=\"M17.41 7.96l-1.37-1.37c-.4-.4-.92-.59-1.43-.59-.52 0-1.04.2-1.43.59L10.3 9.45l-7.72 7.72c-.78.78-.78 2.05 0 2.83L4 21.41c.39.39.9.59 1.41.59.51 0 1.02-.2 1.41-.59l7.78-7.78 2.81-2.81c.8-.78.8-2.07 0-2.86zM5.41 20L4 18.59l7.72-7.72 1.47 1.35L5.41 20z\"/>\n",
              "  </svg>\n",
              "      </button>\n",
              "      \n",
              "  <style>\n",
              "    .colab-df-container {\n",
              "      display:flex;\n",
              "      flex-wrap:wrap;\n",
              "      gap: 12px;\n",
              "    }\n",
              "\n",
              "    .colab-df-convert {\n",
              "      background-color: #E8F0FE;\n",
              "      border: none;\n",
              "      border-radius: 50%;\n",
              "      cursor: pointer;\n",
              "      display: none;\n",
              "      fill: #1967D2;\n",
              "      height: 32px;\n",
              "      padding: 0 0 0 0;\n",
              "      width: 32px;\n",
              "    }\n",
              "\n",
              "    .colab-df-convert:hover {\n",
              "      background-color: #E2EBFA;\n",
              "      box-shadow: 0px 1px 2px rgba(60, 64, 67, 0.3), 0px 1px 3px 1px rgba(60, 64, 67, 0.15);\n",
              "      fill: #174EA6;\n",
              "    }\n",
              "\n",
              "    [theme=dark] .colab-df-convert {\n",
              "      background-color: #3B4455;\n",
              "      fill: #D2E3FC;\n",
              "    }\n",
              "\n",
              "    [theme=dark] .colab-df-convert:hover {\n",
              "      background-color: #434B5C;\n",
              "      box-shadow: 0px 1px 3px 1px rgba(0, 0, 0, 0.15);\n",
              "      filter: drop-shadow(0px 1px 2px rgba(0, 0, 0, 0.3));\n",
              "      fill: #FFFFFF;\n",
              "    }\n",
              "  </style>\n",
              "\n",
              "      <script>\n",
              "        const buttonEl =\n",
              "          document.querySelector('#df-65d488e4-51ac-4759-9889-753fc4221adb button.colab-df-convert');\n",
              "        buttonEl.style.display =\n",
              "          google.colab.kernel.accessAllowed ? 'block' : 'none';\n",
              "\n",
              "        async function convertToInteractive(key) {\n",
              "          const element = document.querySelector('#df-65d488e4-51ac-4759-9889-753fc4221adb');\n",
              "          const dataTable =\n",
              "            await google.colab.kernel.invokeFunction('convertToInteractive',\n",
              "                                                     [key], {});\n",
              "          if (!dataTable) return;\n",
              "\n",
              "          const docLinkHtml = 'Like what you see? Visit the ' +\n",
              "            '<a target=\"_blank\" href=https://colab.research.google.com/notebooks/data_table.ipynb>data table notebook</a>'\n",
              "            + ' to learn more about interactive tables.';\n",
              "          element.innerHTML = '';\n",
              "          dataTable['output_type'] = 'display_data';\n",
              "          await google.colab.output.renderOutput(dataTable, element);\n",
              "          const docLink = document.createElement('div');\n",
              "          docLink.innerHTML = docLinkHtml;\n",
              "          element.appendChild(docLink);\n",
              "        }\n",
              "      </script>\n",
              "    </div>\n",
              "  </div>\n",
              "  "
            ]
          },
          "metadata": {},
          "execution_count": 13
        }
      ]
    },
    {
      "cell_type": "code",
      "source": [
        "plt.figure(figsize=(18,6))\n",
        "plt.title('New infections October-November')\n",
        "plt.plot(df1['date'],df1['Diff'],color='r')\n",
        "for x, y in zip(df1['date'], df1['Diff']):\n",
        "    plt.text(x=x, y=y, s=y,rotation=60)\n",
        "plt.show()"
      ],
      "metadata": {
        "colab": {
          "base_uri": "https://localhost:8080/",
          "height": 403
        },
        "id": "5hkWCGbnLTSS",
        "outputId": "ef8386e5-bd89-4c9f-8354-e78fd3fa5a1b"
      },
      "execution_count": null,
      "outputs": [
        {
          "output_type": "display_data",
          "data": {
            "text/plain": [
              "<Figure size 1296x432 with 1 Axes>"
            ],
            "image/png": "[encoded data removed]"
          },
          "metadata": {
            "needs_background": "light"
          }
        }
      ]
    },
    {
      "cell_type": "markdown",
      "source": [
        "# Use Stan SIR"
      ],
      "metadata": {
        "id": "7TTkMCttB07U"
      }
    },
    {
      "cell_type": "markdown",
      "source": [
        "In this stage, use a STAN-based model to find alpha and beta on the user in April.\n",
        "<br>Use the Beta and Gamma to find the estimated R, beta/gamma"
      ],
      "metadata": {
        "id": "ZGFkehSXlUXF"
      }
    },
    {
      "cell_type": "code",
      "source": [
        "!pip install nest-asyncio"
      ],
      "metadata": {
        "id": "ssaYqjwklzI2",
        "colab": {
          "base_uri": "https://localhost:8080/"
        },
        "outputId": "d939c304-8d91-455d-fe66-08ff40274846"
      },
      "execution_count": null,
      "outputs": [
        {
          "output_type": "stream",
          "name": "stdout",
          "text": [
            "Looking in indexes: https://pypi.org/simple, https://us-python.pkg.dev/colab-wheels/public/simple/\n",
            "Collecting nest-asyncio\n",
            "  Downloading nest_asyncio-1.5.6-py3-none-any.whl (5.2 kB)\n",
            "Installing collected packages: nest-asyncio\n",
            "Successfully installed nest-asyncio-1.5.6\n"
          ]
        }
      ]
    },
    {
      "cell_type": "code",
      "source": [
        "import nest_asyncio\n",
        "import stan\n",
        "nest_asyncio.apply()"
      ],
      "metadata": {
        "id": "CoW4AvRLl70y"
      },
      "execution_count": null,
      "outputs": []
    },
    {
      "cell_type": "markdown",
      "source": [
        "## SIR model"
      ],
      "metadata": {
        "id": "vkjdOgNe-Fxn"
      }
    },
    {
      "cell_type": "code",
      "source": [
        "# use exp for initial gamma and beta\n",
        "model_code = \"\"\"\n",
        "data {\n",
        "  int<lower=2> T;  // number of observations\n",
        "  int<lower=0> y[T];     // observation vector\n",
        "  int<lower=0> N; //Total population\n",
        "  int<lower=3> Tf;\n",
        "}\n",
        "parameters {\n",
        "  real<lower=0,upper=1> B;    //Beta\n",
        "  real<lower=0,upper=1> gam;  //Gamma\n",
        "  real<lower=0> I_init;\n",
        "}\n",
        "transformed parameters {\n",
        "  vector[Tf] S;\n",
        "  vector[Tf] I;\n",
        "  vector[Tf] R;\n",
        "  vector[Tf] lam;\n",
        "\n",
        "  S[1] = N - I_init;\n",
        "  I[1] = I_init;\n",
        "  R[1] = 0;\n",
        "  lam[1] = B*((S[1]*I[1])/N);\n",
        "  \n",
        "  for (t in 2:Tf){\n",
        "    S[t] = S[t-1]-B*S[t-1]*I[t-1]/N; \n",
        "    I[t] = I[t-1] + B*((S[t-1]*I[t-1])/N) - gam*I[t-1];\n",
        "    R[t] = R[t-1] + gam*I[t-1];\n",
        "    lam[t] = B*((S[t]*I[t])/N);\n",
        "  }\n",
        "}\n",
        "\n",
        "model {\n",
        "  gam ~ exponential(5);\n",
        "  B ~ exponential(5);\n",
        "  I_init ~ normal(0,100);\n",
        "\n",
        "  for (t in 1:T){\n",
        "    y[t] ~ poisson(lam[t]); \n",
        "  }\n",
        "}\n",
        "generated quantities {\n",
        "  vector[Tf] forecast; // forecast cases from T to Tf\n",
        "  forecast=lam;\n",
        "}\n",
        "\"\"\""
      ],
      "metadata": {
        "id": "Tr9-xo1ECAfo"
      },
      "execution_count": null,
      "outputs": []
    },
    {
      "cell_type": "code",
      "source": [
        "arr1=df1['Diff'].to_numpy().astype(int)\n",
        "start,end=1,30\n",
        "print(arr1[start:end],len(arr1[start:end]))\n",
        "plt.title(\"New infection\")\n",
        "plt.plot(arr1[start:end])\n",
        "plt.show()"
      ],
      "metadata": {
        "colab": {
          "base_uri": "https://localhost:8080/",
          "height": 335
        },
        "id": "3dJFay8Jo-QC",
        "outputId": "8d1ea5e0-f7c9-4b60-a2bc-ded018b2c869"
      },
      "execution_count": null,
      "outputs": [
        {
          "output_type": "stream",
          "name": "stdout",
          "text": [
            "[  1113   3736  11420   4707   1289  53679  47845  35146  41762  37434\n",
            "  41863  28181  50121  95271 137086 139914 121432  92081  66408  73073\n",
            " 166799  63260  45237  55255  43454  32700 292433 263862 118529] 29\n"
          ]
        },
        {
          "output_type": "display_data",
          "data": {
            "text/plain": [
              "<Figure size 432x288 with 1 Axes>"
            ],
            "image/png": "[encoded data removed]"
          },
          "metadata": {
            "needs_background": "light"
          }
        }
      ]
    },
    {
      "cell_type": "code",
      "source": [
        "mast_data_45 = {\"T\":len(arr1[start:end]),\"y\":arr1[start:end],\"N\":41500000, \"Tf\":45} # 41500000 is total twitter US users\n",
        "\n",
        "posterior = stan.build(model_code, data=mast_data_45, random_seed=2)\n",
        "\n",
        "fit = posterior.sample(num_chains=1, num_samples=1000)"
      ],
      "metadata": {
        "id": "OBzrvdtqr2xw",
        "colab": {
          "base_uri": "https://localhost:8080/"
        },
        "outputId": "88505dba-ff55-4b8e-a504-e02d25d00ea7"
      },
      "execution_count": null,
      "outputs": [
        {
          "output_type": "stream",
          "name": "stdout",
          "text": [
            "Building...\n"
          ]
        },
        {
          "output_type": "stream",
          "name": "stderr",
          "text": [
            "\n",
            "Building: found in cache, done.Messages from stanc:\n",
            "Warning in '/tmp/httpstan_q5i1cill/model_miimyjaz.stan', line 35, column 20: Argument 100 suggests there may be parameters that are not unit scale; consider rescaling with a multiplier (see manual section 22.12).\n",
            "Sampling:   0%\n",
            "Sampling:   5% (100/2000)\n",
            "Sampling:  15% (300/2000)\n",
            "Sampling:  20% (400/2000)\n",
            "Sampling:  25% (500/2000)\n",
            "Sampling:  30% (600/2000)\n",
            "Sampling:  35% (700/2000)\n",
            "Sampling:  40% (800/2000)\n",
            "Sampling:  45% (900/2000)\n",
            "Sampling: 100% (2000/2000)\n",
            "Sampling: 100% (2000/2000), done.\n",
            "Messages received during sampling:\n",
            "  Gradient evaluation took 0.00013 seconds\n",
            "  1000 transitions using 10 leapfrog steps per transition would take 1.3 seconds.\n",
            "  Adjust your expectations accordingly!\n",
            "  Informational Message: The current Metropolis proposal is about to be rejected because of the following issue:\n",
            "  Exception: poisson_lpmf: Rate parameter is -inf, but must be nonnegative! (in '/tmp/httpstan_7sdlmz5i/model_miimyjaz.stan', line 38, column 4 to column 27)\n",
            "  If this warning occurs sporadically, such as for highly constrained variable types like covariance matrices, then the sampler is fine,\n",
            "  but if this warning occurs often then your model may be either severely ill-conditioned or misspecified.\n",
            "  Informational Message: The current Metropolis proposal is about to be rejected because of the following issue:\n",
            "  Exception: poisson_lpmf: Rate parameter is -inf, but must be nonnegative! (in '/tmp/httpstan_7sdlmz5i/model_miimyjaz.stan', line 38, column 4 to column 27)\n",
            "  If this warning occurs sporadically, such as for highly constrained variable types like covariance matrices, then the sampler is fine,\n",
            "  but if this warning occurs often then your model may be either severely ill-conditioned or misspecified.\n",
            "  Informational Message: The current Metropolis proposal is about to be rejected because of the following issue:\n",
            "  Exception: poisson_lpmf: Rate parameter is -inf, but must be nonnegative! (in '/tmp/httpstan_7sdlmz5i/model_miimyjaz.stan', line 38, column 4 to column 27)\n",
            "  If this warning occurs sporadically, such as for highly constrained variable types like covariance matrices, then the sampler is fine,\n",
            "  but if this warning occurs often then your model may be either severely ill-conditioned or misspecified.\n",
            "  Informational Message: The current Metropolis proposal is about to be rejected because of the following issue:\n",
            "  Exception: poisson_lpmf: Rate parameter is -5.79564e+290, but must be nonnegative! (in '/tmp/httpstan_7sdlmz5i/model_miimyjaz.stan', line 38, column 4 to column 27)\n",
            "  If this warning occurs sporadically, such as for highly constrained variable types like covariance matrices, then the sampler is fine,\n",
            "  but if this warning occurs often then your model may be either severely ill-conditioned or misspecified.\n"
          ]
        }
      ]
    },
    {
      "cell_type": "markdown",
      "source": [
        "## Get beta and gamma from prediction"
      ],
      "metadata": {
        "id": "C-kSsS6yPWKl"
      }
    },
    {
      "cell_type": "code",
      "source": [
        "# fit and obtain the data\n",
        "gamma=np.mean(fit['gam'])\n",
        "beta=np.mean(fit['B'])\n",
        "R=beta/gamma\n",
        "print('Average Beta:',beta)\n",
        "print('Avergae Gamma:',gamma)\n",
        "print('Avergae Reproduction Number is:',R)   # R0 is the number of new cases a initial case generates\n",
        "lst=np.mean(fit[\"forecast\"],axis=1)"
      ],
      "metadata": {
        "id": "BXyfsf8a-KAQ",
        "colab": {
          "base_uri": "https://localhost:8080/"
        },
        "outputId": "fb49b04a-5205-48ea-ab8e-98ab343340d9"
      },
      "execution_count": null,
      "outputs": [
        {
          "output_type": "stream",
          "name": "stdout",
          "text": [
            "Average Beta: 0.9999744552346607\n",
            "Avergae Gamma: 0.8971009148589111\n",
            "Avergae Reproduction Number is: 1.1146733201046046\n"
          ]
        }
      ]
    },
    {
      "cell_type": "code",
      "source": [
        "path='/content/mastodon3.json'\n",
        "with open(path) as json_data:\n",
        "  obj = json.load(json_data)\n",
        "  df_m = pd.DataFrame(obj['data']['platforms'][0]['statSet'], columns=['date','usersMonthly','usersTotal'])\n",
        "\n",
        "df_m['date'] = pd.to_datetime(df_m['date'])\n",
        "df_m = df_m.sort_values(by='date')\n",
        "\n",
        "Nov_interval = ('2022-10-22','2022-12-04')\n",
        "mask1=(df_m['date'] >= Nov_interval[0]) & (df_m['date'] <= Nov_interval[1])\n",
        "df2 = df_m.loc[mask1].reset_index(drop=True)\n",
        "df2['Diff'] = df2['usersTotal'].diff()"
      ],
      "metadata": {
        "id": "__5c3pZiCyC0"
      },
      "execution_count": null,
      "outputs": []
    },
    {
      "cell_type": "code",
      "source": [
        "df2.at[0,'Diff']=0\n",
        "lst2=df2['Diff'].to_numpy()\n",
        "lst2=lst2.astype(int)\n",
        "print(lst2)"
      ],
      "metadata": {
        "colab": {
          "base_uri": "https://localhost:8080/"
        },
        "id": "WGWFO7z_Fdgf",
        "outputId": "4ebfdb6b-7da8-41ec-9edd-400b9c4bc5cf"
      },
      "execution_count": null,
      "outputs": [
        {
          "output_type": "stream",
          "name": "stdout",
          "text": [
            "[     0   1113   3736  11420   4707   1289  53679  47845  35146  41762\n",
            "  37434  41863  28181  50121  95271 137086 139914 121432  92081  66408\n",
            "  73073 166799  63260  45237  55255  43454  32700 292433 263862 118529\n",
            "  70941  44600 -13347  23701  22092  45573  22358  21790  42342  17468\n",
            "  10972   9181  14221   8413]\n"
          ]
        }
      ]
    },
    {
      "cell_type": "code",
      "source": [
        "pad=np.array([0])\n",
        "lst=np.concatenate((pad,lst))\n",
        "lst=lst.astype(int)\n",
        "print(lst)\n",
        "# lst=np.delete(lst,[0])"
      ],
      "metadata": {
        "colab": {
          "base_uri": "https://localhost:8080/"
        },
        "id": "87xVbwvkEInv",
        "outputId": "4db38335-7d78-453a-b6bd-8268732dad8b"
      },
      "execution_count": null,
      "outputs": [
        {
          "output_type": "stream",
          "name": "stdout",
          "text": [
            "[     0  18609  20499  22571  24839  27321  30033  32992  36216  39723\n",
            "  43531  47658  52121  56937  62118  67677  73622  79958  86683  93792\n",
            " 101270 109095 117235 125650 134285 143076 151945 160805 169554 178082\n",
            " 186271 193996 201130 207547 213127 217759 221345 223807 225087 225152\n",
            " 223994 221634 218115 213507 207900]\n"
          ]
        }
      ]
    },
    {
      "cell_type": "code",
      "source": [
        "plt.figure(figsize=(15,6))\n",
        "plt.title('November new mastodon user, Prediction versus Actual')\n",
        "\n",
        "plt.plot(lst,color='red',label='Pred',linestyle='--')\n",
        "plt.plot(arr1[:],color='blue',label='Before')\n",
        "plt.plot(lst2,label='Actual')\n",
        "\n",
        "plt.axvline(x=30, c='black')\n",
        "\n",
        "plt.legend()\n",
        "plt.show()"
      ],
      "metadata": {
        "colab": {
          "base_uri": "https://localhost:8080/",
          "height": 390
        },
        "id": "IvOnHBdWC1JX",
        "outputId": "22d9b02f-ff4b-4e3b-f81d-b718b28f6b0b"
      },
      "execution_count": null,
      "outputs": [
        {
          "output_type": "display_data",
          "data": {
            "text/plain": [
              "<Figure size 1080x432 with 1 Axes>"
            ],
            "image/png": "[encoded data removed]"
          },
          "metadata": {
            "needs_background": "light"
          }
        }
      ]
    },
    {
      "cell_type": "code",
      "source": [
        "# pytorch LSTM model\n",
        "# in the other notebook"
      ],
      "metadata": {
        "id": "JTGF98tiCd5G"
      },
      "execution_count": null,
      "outputs": []
    }
  ]
}