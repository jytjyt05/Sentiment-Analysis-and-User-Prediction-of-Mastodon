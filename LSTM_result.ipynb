{
  "nbformat": 4,
  "nbformat_minor": 0,
  "metadata": {
    "colab": {
      "provenance": []
    },
    "kernelspec": {
      "name": "python3",
      "display_name": "Python 3"
    },
    "language_info": {
      "name": "python"
    }
  },
  "cells": [
    {
      "cell_type": "code",
      "execution_count": 99,
      "metadata": {
        "id": "Gd9P4Isz8Tm1"
      },
      "outputs": [],
      "source": [
        "import numpy as np\n",
        "import matplotlib.pyplot as plt\n",
        "import pandas as pd\n",
        "import json"
      ]
    },
    {
      "cell_type": "markdown",
      "source": [
        "# load data"
      ],
      "metadata": {
        "id": "YDCibAVxF1sb"
      }
    },
    {
      "cell_type": "code",
      "source": [
        "# read json files\n",
        "path='/content/mastodon2.json'\n",
        "with open(path) as json_data:\n",
        "  obj = json.load(json_data)\n",
        "  df_m = pd.DataFrame(obj['data']['platforms'][0]['statSet'], columns=['date','usersMonthly','usersTotal'])"
      ],
      "metadata": {
        "id": "gYmmzJtr83oW"
      },
      "execution_count": 100,
      "outputs": []
    },
    {
      "cell_type": "code",
      "source": [
        "# initial data process\n",
        "df_m['date'] = pd.to_datetime(df_m['date'])\n",
        "df_m = df_m.sort_values(by='date')\n",
        "\n",
        "# mask = df_m['date']>'2021-12-31'\n",
        "# df_m = df_m.loc[mask].reset_index(drop=True)"
      ],
      "metadata": {
        "id": "GSLP4PtkF7xV"
      },
      "execution_count": 101,
      "outputs": []
    },
    {
      "cell_type": "code",
      "source": [
        "# extract Novemember Data\n",
        "Nov_interval = ('2022-10-21','2022-11-21')\n",
        "mask1=(df_m['date'] >= Nov_interval[0]) & (df_m['date'] <= Nov_interval[1])\n",
        "df1 = df_m.loc[mask1].reset_index(drop=True)\n",
        "df1['Diff'] = df1['usersTotal'].diff()\n",
        "df1.at[0,'Diff']=0"
      ],
      "metadata": {
        "id": "EpY7QaLbGHCS"
      },
      "execution_count": 102,
      "outputs": []
    },
    {
      "cell_type": "code",
      "source": [
        "len(df1)"
      ],
      "metadata": {
        "colab": {
          "base_uri": "https://localhost:8080/"
        },
        "id": "zqEMSam9f3N_",
        "outputId": "becec4f5-5425-45e0-ce08-b9e8cdc88194"
      },
      "execution_count": 103,
      "outputs": [
        {
          "output_type": "execute_result",
          "data": {
            "text/plain": [
              "32"
            ]
          },
          "metadata": {},
          "execution_count": 103
        }
      ]
    },
    {
      "cell_type": "code",
      "source": [
        "# split data to X/input and Y/output, 7days for predicting the 8th day\n",
        "d=df1[\"Diff\"].to_numpy()\n",
        "len_x = 7\n",
        "len_y = 1\n",
        "width = len_x + len_y\n",
        "thing = [d[i:] for i in range(width)]\n",
        "# print(thing)\n",
        "min_length = min(len(x) for x in thing)\n",
        "thing = [x[:min_length] for x in thing]\n",
        "thing = np.stack(thing, axis=1)\n",
        "# print(thing)\n",
        "data = thing[:, :len_x]\n",
        "target = thing[:, len_x:]\n",
        "\n",
        "print(data.shape)\n",
        "print(target.shape)"
      ],
      "metadata": {
        "colab": {
          "base_uri": "https://localhost:8080/"
        },
        "id": "x4z9WAyjT4-N",
        "outputId": "2a8b7045-5342-4644-c299-41c7bc3e32d2"
      },
      "execution_count": 104,
      "outputs": [
        {
          "output_type": "stream",
          "name": "stdout",
          "text": [
            "(25, 7)\n",
            "(25, 1)\n"
          ]
        }
      ]
    },
    {
      "cell_type": "markdown",
      "source": [
        "# plot features(new infections)"
      ],
      "metadata": {
        "id": "YE91j-gFF8kT"
      }
    },
    {
      "cell_type": "code",
      "source": [
        "plt.style.use('ggplot')\n",
        "plt.plot(df1['Diff'],label='New Infections',c='red')\n",
        "plt.legend()\n",
        "plt.show()"
      ],
      "metadata": {
        "colab": {
          "base_uri": "https://localhost:8080/",
          "height": 265
        },
        "id": "Vp4Zkefh85B6",
        "outputId": "f2db3510-86d6-4c62-e839-59fe03af6665"
      },
      "execution_count": 105,
      "outputs": [
        {
          "output_type": "display_data",
          "data": {
            "text/plain": [
              "<Figure size 432x288 with 1 Axes>"
            ],
            "image/png": "[encoded data removed]"
          },
          "metadata": {}
        }
      ]
    },
    {
      "cell_type": "code",
      "source": [
        "from sklearn.preprocessing import StandardScaler, MinMaxScaler\n",
        "mm = MinMaxScaler()\n",
        "ss = StandardScaler()\n",
        "\n",
        "X_ss = ss.fit_transform(data)\n",
        "y_mm = mm.fit_transform(target) "
      ],
      "metadata": {
        "id": "d8A2MtBt9dZI"
      },
      "execution_count": 106,
      "outputs": []
    },
    {
      "cell_type": "code",
      "source": [
        "X_ss.dtype"
      ],
      "metadata": {
        "colab": {
          "base_uri": "https://localhost:8080/"
        },
        "id": "E8WEdaIzByTd",
        "outputId": "dbfdf4bb-f87a-48f0-c222-a5534c74a956"
      },
      "execution_count": 107,
      "outputs": [
        {
          "output_type": "execute_result",
          "data": {
            "text/plain": [
              "dtype('float64')"
            ]
          },
          "metadata": {},
          "execution_count": 107
        }
      ]
    },
    {
      "cell_type": "code",
      "source": [
        "print(X_ss.shape,y_mm.shape)  #minmax scalar for each column"
      ],
      "metadata": {
        "colab": {
          "base_uri": "https://localhost:8080/"
        },
        "id": "3cUm3RfYDNwK",
        "outputId": "9691fd55-b1f7-49dd-fdf1-de56d21701d9"
      },
      "execution_count": 108,
      "outputs": [
        {
          "output_type": "stream",
          "name": "stdout",
          "text": [
            "(25, 7) (25, 1)\n"
          ]
        }
      ]
    },
    {
      "cell_type": "code",
      "source": [
        "# split to train and test\n",
        "\n",
        "X_train = X_ss[:X_ss.shape[0]-2, :]\n",
        "y_train = y_mm[:X_ss.shape[0]-2, :]\n",
        "\n",
        "X_valid = X_ss[-2:, :]\n",
        "y_valid = y_mm[-2:, :] \n",
        "print(\"Training Shape\", X_train.shape, y_train.shape)\n",
        "print(\"Validation Shape\", X_valid.shape, y_valid.shape) "
      ],
      "metadata": {
        "colab": {
          "base_uri": "https://localhost:8080/"
        },
        "id": "CDdEeGo4DuBx",
        "outputId": "d1c864cb-f56a-4804-e717-a72ee8e1ea57"
      },
      "execution_count": 109,
      "outputs": [
        {
          "output_type": "stream",
          "name": "stdout",
          "text": [
            "Training Shape (23, 7) (23, 1)\n",
            "Validation Shape (2, 7) (2, 1)\n"
          ]
        }
      ]
    },
    {
      "cell_type": "markdown",
      "source": [
        "# LSTM"
      ],
      "metadata": {
        "id": "5BXR_vaGo2yD"
      }
    },
    {
      "cell_type": "code",
      "source": [
        "import torch \n",
        "import torch.nn as nn\n",
        "from torch.autograd import Variable"
      ],
      "metadata": {
        "id": "7MzXYnxHDyRh"
      },
      "execution_count": 110,
      "outputs": []
    },
    {
      "cell_type": "code",
      "source": [
        "def Tensor_Process(arr,reshape=True):\n",
        "  if reshape:\n",
        "    tensor=Variable(torch.Tensor(arr))\n",
        "    return torch.reshape(tensor,  (tensor.shape[0],1,tensor.shape[1]))\n",
        "  else:\n",
        "    return Variable(torch.Tensor(arr))"
      ],
      "metadata": {
        "id": "POHS-yF4h_7d"
      },
      "execution_count": 111,
      "outputs": []
    },
    {
      "cell_type": "code",
      "source": [
        "X_train_tensors = Tensor_Process(X_train)\n",
        "y_train_tensors = Tensor_Process(y_train,reshape=False)\n",
        "\n",
        "X_valid_tensors = Tensor_Process(X_valid)\n",
        "y_valid_tensors = Tensor_Process(y_valid,reshape=False)"
      ],
      "metadata": {
        "id": "yBDD7zF5D8em"
      },
      "execution_count": 112,
      "outputs": []
    },
    {
      "cell_type": "code",
      "source": [
        "print(X_train_tensors.shape,y_train_tensors.shape)\n",
        "print(X_valid_tensors.shape,y_valid_tensors.shape)\n",
        "print(X_train.dtype)"
      ],
      "metadata": {
        "colab": {
          "base_uri": "https://localhost:8080/"
        },
        "id": "jNvUQt26ELIS",
        "outputId": "7eb28920-0930-439a-bbe0-42be49f092bc"
      },
      "execution_count": 113,
      "outputs": [
        {
          "output_type": "stream",
          "name": "stdout",
          "text": [
            "torch.Size([23, 1, 7]) torch.Size([23, 1])\n",
            "torch.Size([2, 1, 7]) torch.Size([2, 1])\n",
            "float64\n"
          ]
        }
      ]
    },
    {
      "cell_type": "code",
      "source": [
        "#reshaping to rows, timestamps, features\n",
        "# X_train_tensors_final = torch.reshape(X_train_tensors,   (X_train_tensors.shape[0], 1, X_train_tensors.shape[1]))\n",
        "\n",
        "# X_valid_tensors_final = torch.reshape(X_test_tensors,  (X_test_tensors.shape[0], 1, X_test_tensors.shape[1]))"
      ],
      "metadata": {
        "id": "VrSqiIkND-bW"
      },
      "execution_count": 114,
      "outputs": []
    },
    {
      "cell_type": "code",
      "source": [
        "class LSTM1(nn.Module):\n",
        "    def __init__(self, num_classes, input_size, hidden_size, num_layers, seq_length):\n",
        "        super(LSTM1, self).__init__()\n",
        "        self.num_classes = num_classes #number of classes\n",
        "        self.num_layers = num_layers #number of layers\n",
        "        self.input_size = input_size #input size\n",
        "        self.hidden_size = hidden_size #hidden state\n",
        "        self.seq_length = seq_length #sequence length\n",
        "\n",
        "        self.lstm = nn.LSTM(input_size=input_size, hidden_size=hidden_size,\n",
        "                          num_layers=num_layers, batch_first=True) #lstm\n",
        "        self.fc_1 =  nn.Linear(hidden_size, 128) #fully connected 1\n",
        "        self.fc = nn.Linear(128, num_classes) #fully connected last layer\n",
        "\n",
        "        self.relu = nn.ReLU()\n",
        "    \n",
        "    def forward(self,x):\n",
        "        h_0 = Variable(torch.zeros(self.num_layers, x.size(0), self.hidden_size)) #hidden state\n",
        "        c_0 = Variable(torch.zeros(self.num_layers, x.size(0), self.hidden_size)) #internal state\n",
        "        # Propagate input through LSTM\n",
        "        output, (hn, cn) = self.lstm(x, (h_0, c_0)) #lstm with input, hidden, and internal state\n",
        "        hn = hn.view(-1, self.hidden_size) #reshaping the data for Dense layer next\n",
        "        out = self.relu(hn)\n",
        "        out = self.fc_1(out) #first Dense\n",
        "        out = self.relu(out) #relu\n",
        "        out = self.fc(out) #Final Output\n",
        "        return out"
      ],
      "metadata": {
        "id": "DUzQULZcElWD"
      },
      "execution_count": 115,
      "outputs": []
    },
    {
      "cell_type": "code",
      "source": [
        "num_epochs = 1000\n",
        "learning_rate = 0.001\n",
        "\n",
        "input_size = 7 #number of features\n",
        "hidden_size = 2 #number of features in hidden state\n",
        "num_layers = 1 #number of stacked lstm layers\n",
        "\n",
        "num_classes = 1 #number of output classes"
      ],
      "metadata": {
        "id": "nKxjzSLhEyMA"
      },
      "execution_count": 116,
      "outputs": []
    },
    {
      "cell_type": "code",
      "source": [
        "lstm1 = LSTM1(num_classes, input_size, hidden_size, num_layers, X_train_tensors.shape[1]) #our lstm class "
      ],
      "metadata": {
        "id": "fW2ZG-lzE2Fx"
      },
      "execution_count": 117,
      "outputs": []
    },
    {
      "cell_type": "code",
      "source": [
        "criterion = torch.nn.MSELoss()    # mean-squared error for regression\n",
        "optimizer = torch.optim.Adam(lstm1.parameters(), lr=learning_rate)"
      ],
      "metadata": {
        "id": "VShKNssqE4jH"
      },
      "execution_count": 118,
      "outputs": []
    },
    {
      "cell_type": "code",
      "source": [
        "for epoch in range(num_epochs):\n",
        "  outputs = lstm1.forward(X_train_tensors) #forward pass\n",
        "  optimizer.zero_grad() #caluclate the gradient, manually setting to 0\n",
        " \n",
        "  # obtain the loss function\n",
        "  loss = criterion(outputs, y_train_tensors)\n",
        " \n",
        "  loss.backward() #calculates the loss of the loss function\n",
        " \n",
        "  optimizer.step() #improve from loss, i.e backprop\n",
        "  if epoch % 100 == 0:\n",
        "    print(\"Epoch: %d, loss: %1.5f\" % (epoch, loss.item()))"
      ],
      "metadata": {
        "colab": {
          "base_uri": "https://localhost:8080/"
        },
        "id": "Te6c6dxKE60Z",
        "outputId": "6380e051-aa33-4935-e757-589302564e1a"
      },
      "execution_count": 119,
      "outputs": [
        {
          "output_type": "stream",
          "name": "stdout",
          "text": [
            "Epoch: 0, loss: 0.23897\n",
            "Epoch: 100, loss: 0.05219\n",
            "Epoch: 200, loss: 0.04668\n",
            "Epoch: 300, loss: 0.04312\n",
            "Epoch: 400, loss: 0.04095\n",
            "Epoch: 500, loss: 0.04024\n",
            "Epoch: 600, loss: 0.03997\n",
            "Epoch: 700, loss: 0.03987\n",
            "Epoch: 800, loss: 0.03981\n",
            "Epoch: 900, loss: 0.03947\n"
          ]
        }
      ]
    },
    {
      "cell_type": "markdown",
      "source": [
        "# Validation"
      ],
      "metadata": {
        "id": "rU28HzQ2lg4m"
      }
    },
    {
      "cell_type": "code",
      "source": [
        "# def nan_pad(arr):\n",
        "  # zero_pad=np.empty((df_y_mm.shape[0]-1+7,))\n",
        "  # # print(zero_pad.shape)\n",
        "  # zero_pad.fill(np.NaN)\n",
        "  # zero_pad[-7:]=data_predict\n",
        "  # print(zero_pad)"
      ],
      "metadata": {
        "id": "hijGNCchrXts"
      },
      "execution_count": 120,
      "outputs": []
    },
    {
      "cell_type": "code",
      "source": [
        "lstm1.eval()\n",
        "with torch.no_grad():\n",
        "  print('Input x\\n',data[-2:, :])\n",
        "  print('GT y\\n',target[-2:,:])\n",
        "\n",
        "  train_predict = lstm1(X_valid_tensors)  #forward pass\n",
        "  y_predict_un = train_predict.data.numpy() #numpy conversion\n",
        "  y_predict = mm.inverse_transform(y_predict_un) #reverse transformation\n",
        "  print('Pred y\\n',y_predict)\n",
        "\n",
        "  dataY_plot = y_mm  # ground truth\n",
        "  dataY_plot = mm.inverse_transform(dataY_plot)\n",
        "  # print(dataY_plot)"
      ],
      "metadata": {
        "colab": {
          "base_uri": "https://localhost:8080/"
        },
        "id": "mynHWvDWFGgc",
        "outputId": "560db68e-0f7d-4cef-8321-9ee20d598a94"
      },
      "execution_count": 124,
      "outputs": [
        {
          "output_type": "stream",
          "name": "stdout",
          "text": [
            "Input x\n",
            " [[ 63260.  45237.  55255.  43454.  32700. 292433. 263862.]\n",
            " [ 45237.  55255.  43454.  32700. 292433. 263862. 118529.]]\n",
            "GT y\n",
            " [[118529.]\n",
            " [ 51477.]]\n",
            "Pred y\n",
            " [[146014.19 ]\n",
            " [ 31210.037]] \n",
            "\n",
            " [[0.44591218]\n",
            " [0.01146268]]\n"
          ]
        }
      ]
    },
    {
      "cell_type": "code",
      "source": [
        "print(X_valid)\n",
        "print('\\n',y_predict_un)\n",
        "\n",
        "# print(data[-2:, :].dtype)\n",
        "y_predict_un=y_predict_un.astype(np.float64)\n",
        "\n",
        "print(X_valid.dtype,y_predict_un.dtype)\n",
        "\n",
        "input1=np.append(X_valid[1,1:],y_predict_un[1]).reshape(1,-1)\n",
        "# input2=np.append(X_valid[1,1:],y_predict_un[1])\n",
        "# input1=np.vstack((input1,input2))\n",
        "print(input1,input1.shape)\n",
        "# res=mm.fit_transform(list1)\n",
        "# res"
      ],
      "metadata": {
        "colab": {
          "base_uri": "https://localhost:8080/"
        },
        "id": "YzM4YYF5JNfG",
        "outputId": "cbf96279-da48-47e2-8673-8df9740ff0b0"
      },
      "execution_count": 148,
      "outputs": [
        {
          "output_type": "stream",
          "name": "stdout",
          "text": [
            "[[ 0.18741475 -0.25161779 -0.06881787 -0.37409289 -0.62595932  2.98484392\n",
            "   2.56834577]\n",
            " [-0.19725922 -0.0315133  -0.33529279 -0.62378038  3.60641146  2.58109691\n",
            "   0.47249647]]\n",
            "\n",
            " [[0.44591218]\n",
            " [0.01146268]]\n",
            "float64 float64\n",
            "[[-0.0315133  -0.33529279 -0.62378038  3.60641146  2.58109691  0.47249647\n",
            "   0.01146268]] (1, 7)\n"
          ]
        }
      ]
    },
    {
      "cell_type": "code",
      "source": [
        "# lst=np.append(lst,y_predict).reshape(1,-1)\n",
        "# print(lst,lst.shape,'\\n')\n",
        "# print(lst[-7:])\n",
        "\n",
        "def predict_test(arr,days):\n",
        "  output=[]\n",
        "  lstm1.eval()\n",
        "  with torch.no_grad():\n",
        "    i=0\n",
        "    while i<days:\n",
        "      # new=arr[-days:].reshape(1,-1).copy()\n",
        "      print('orig\\n',arr[:,-days:],arr[:,-days:].shape)\n",
        "\n",
        "      X_test_tensors=Tensor_Process(arr[:,-days:])\n",
        "      print(X_test_tensors.shape)\n",
        "      test_pred=lstm1(X_test_tensors)\n",
        "      y_predict = test_pred.data.numpy().flatten()\n",
        "      print(\"predictaion\",y_predict[0])\n",
        "      arr=np.append(arr,y_predict).reshape(1,-1)    # arr=np.append(arr[0],y_predict)\n",
        "      i+=1\n",
        "    return arr\n",
        "\n",
        "days=7\n",
        "pred_result=predict_test(input1,days)\n",
        "print(pred_result[:,-days:])\n",
        "pred_result=mm.inverse_transform(pred_result)\n",
        "print(pred_result[:,-days:].flatten())"
      ],
      "metadata": {
        "colab": {
          "base_uri": "https://localhost:8080/"
        },
        "id": "UqLJcYRUn9-8",
        "outputId": "73ed18ad-a5b6-4ddb-b304-2ba3dde053f5"
      },
      "execution_count": 162,
      "outputs": [
        {
          "output_type": "stream",
          "name": "stdout",
          "text": [
            "orig\n",
            " [[-0.0315133  -0.33529279 -0.62378038  3.60641146  2.58109691  0.47249647\n",
            "   0.01146268]] (1, 7)\n",
            "torch.Size([1, 1, 7])\n",
            "predictaion 0.44591218\n",
            "orig\n",
            " [[-0.33529279 -0.62378038  3.60641146  2.58109691  0.47249647  0.01146268\n",
            "   0.44591218]] (1, 7)\n",
            "torch.Size([1, 1, 7])\n",
            "predictaion 0.15027028\n",
            "orig\n",
            " [[-0.62378038  3.60641146  2.58109691  0.47249647  0.01146268  0.44591218\n",
            "   0.15027028]] (1, 7)\n",
            "torch.Size([1, 1, 7])\n",
            "predictaion 0.24688998\n",
            "orig\n",
            " [[3.60641146 2.58109691 0.47249647 0.01146268 0.44591218 0.15027028\n",
            "  0.24688998]] (1, 7)\n",
            "torch.Size([1, 1, 7])\n",
            "predictaion 0.44591218\n",
            "orig\n",
            " [[2.58109691 0.47249647 0.01146268 0.44591218 0.15027028 0.24688998\n",
            "  0.44591218]] (1, 7)\n",
            "torch.Size([1, 1, 7])\n",
            "predictaion 0.44591218\n",
            "orig\n",
            " [[0.47249647 0.01146268 0.44591218 0.15027028 0.24688998 0.44591218\n",
            "  0.44591218]] (1, 7)\n",
            "torch.Size([1, 1, 7])\n",
            "predictaion 0.42100048\n",
            "orig\n",
            " [[0.01146268 0.44591218 0.15027028 0.24688998 0.44591218 0.44591218\n",
            "  0.42100048]] (1, 7)\n",
            "torch.Size([1, 1, 7])\n",
            "predictaion 0.32692754\n",
            "[[0.44591218 0.15027028 0.24688998 0.44591218 0.44591218 0.42100048\n",
            "  0.32692754]]\n",
            "[146014.18600535  67890.22288203  93422.17063749 146014.18600535\n",
            " 146014.18600535 139431.21901321 114572.25700998]\n"
          ]
        }
      ]
    },
    {
      "cell_type": "code",
      "source": [
        "gt_axe=np.arange(0,32)\n",
        "print(len(gt_axe))\n",
        "pred_axe=np.arange(32,32+days)\n",
        "print(len(pred_axe))"
      ],
      "metadata": {
        "colab": {
          "base_uri": "https://localhost:8080/"
        },
        "id": "B-3-rLwGpr4p",
        "outputId": "c3b5f041-3b90-475d-dd9b-23b5e2cc2e8c"
      },
      "execution_count": 163,
      "outputs": [
        {
          "output_type": "stream",
          "name": "stdout",
          "text": [
            "32\n",
            "7\n"
          ]
        }
      ]
    },
    {
      "cell_type": "code",
      "source": [
        "plt.figure(figsize=(12,6)) #plotting\n",
        "plt.title('Prediction of next 7 days')\n",
        "plt.axvline(x=31, c='black', linestyle='--') #size of the training set\n",
        "\n",
        "\n",
        "plt.plot(gt_axe,df1['Diff'], label='Ground Truth') #actual plot\n",
        "plt.plot(pred_axe,pred_result[:,-days:].flatten(),label='Prediction') #predicted plot\n",
        "\n",
        "plt.legend()\n",
        "plt.show() "
      ],
      "metadata": {
        "colab": {
          "base_uri": "https://localhost:8080/",
          "height": 391
        },
        "id": "A4gzaPqOk9KW",
        "outputId": "ee78c133-4c64-4a5c-96ea-8de1826131e2"
      },
      "execution_count": 164,
      "outputs": [
        {
          "output_type": "display_data",
          "data": {
            "text/plain": [
              "<Figure size 864x432 with 1 Axes>"
            ],
            "image/png": "[encoded data removed]"
          },
          "metadata": {}
        }
      ]
    }
  ]
}